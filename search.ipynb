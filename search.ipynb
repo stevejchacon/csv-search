{
 "cells": [
  {
   "cell_type": "markdown",
   "metadata": {},
   "source": [
    "# Step 2/2"
   ]
  },
  {
   "cell_type": "code",
   "execution_count": null,
   "metadata": {},
   "outputs": [],
   "source": [
    "import pandas as pd "
   ]
  },
  {
   "cell_type": "code",
   "execution_count": null,
   "metadata": {},
   "outputs": [],
   "source": [
    "# string you are searching for\n",
    "string_search = '__insert your desired string here__'\n",
    "\n",
    "# lowercase the entire search term\n",
    "string_search = string_search.lower()"
   ]
  },
  {
   "cell_type": "code",
   "execution_count": null,
   "metadata": {},
   "outputs": [],
   "source": [
    "# create column names for every column in the csv file. The csv file I use does not have a standard number of columns.\n",
    "# so, column_count.py will determine the max number of columns in the file and we use the resulting numnber from that\n",
    "# script to create a list of [col1, col2, col3, ... ]\n",
    "line_ctr = 1\n",
    "\n",
    "column_names = []\n",
    "\n",
    "####### replace 9999999 with the number that resulted from column_counter.py #######\n",
    "for i in range(9999999):\n",
    "  temp_str = 'col' + str(line_ctr)\n",
    "  line_ctr += 1\n",
    "  column_names.append(temp_str)"
   ]
  },
  {
   "cell_type": "code",
   "execution_count": null,
   "metadata": {},
   "outputs": [],
   "source": [
    "\n",
    "# create an empty list to store the rows of the data\n",
    "data = []\n",
    "\n",
    "####### change 'file.csv' to be the name of your specific csv file #######\n",
    "with open('__file__.csv', 'r') as file:\n",
    "    for line in file:\n",
    "        # split the line into fields using a comma as the delimiter\n",
    "        fields = line.strip().split(',')\n",
    "        \n",
    "        # check if the number of fields matches the expected number\n",
    "        if len(fields) < len(column_names):\n",
    "            # fill missing fields with None (you can use any placeholder you prefer)\n",
    "            # this has to be done because every row has to have the same number of\n",
    "            # columns to become a dataframe\n",
    "            fields.extend([None] * (len(column_names) - len(fields)))\n",
    "        \n",
    "        # create a dictionary mapping column names to values\n",
    "        row_dict = dict(zip(column_names, fields))\n",
    "        data.append(row_dict)\n",
    "\n",
    "# create a dataframe from the list of dictionaries\n",
    "df = pd.DataFrame(data)"
   ]
  },
  {
   "cell_type": "code",
   "execution_count": null,
   "metadata": {},
   "outputs": [],
   "source": [
    "# create an empty list that will be populated with the indices of rows that contain the 'string_search' term\n",
    "unique_nums = []\n",
    "\n",
    "for index, row in df.iterrows():\n",
    "    for column in df.columns:\n",
    "        cell_value = row[column]\n",
    "        # check if 'your desired string' is in the cell value\n",
    "        if string_search in str(cell_value).lower():\n",
    "            print(f\"Found {string_search} in row {index}, column {column}: {cell_value}\")\n",
    "            \n",
    "            if index not in unique_nums:\n",
    "              unique_nums.append(index)"
   ]
  },
  {
   "cell_type": "code",
   "execution_count": null,
   "metadata": {},
   "outputs": [],
   "source": [
    "# create a dataframe that contains only the rows that contained the 'search_string'\n",
    "\n",
    "# empty list of dataframes\n",
    "dfs = []\n",
    "\n",
    "for index, row in df.iterrows():\n",
    "    # if the row index is in the unique_nums list\n",
    "    if index in unique_nums:\n",
    "        # create a dataframe for the current row and append it to 'dfs'\n",
    "        row_df = pd.DataFrame([row])\n",
    "        dfs.append(row_df)\n",
    "\n",
    "# concatenate the list of dataframes into a single dataframe\n",
    "result_df = pd.concat(dfs, ignore_index=True)"
   ]
  },
  {
   "cell_type": "code",
   "execution_count": null,
   "metadata": {},
   "outputs": [],
   "source": [
    "# sanity check: verify the length of the new dataframe == length of unique_nums (the list of indices)\n",
    "len(result_df)"
   ]
  },
  {
   "cell_type": "code",
   "execution_count": null,
   "metadata": {},
   "outputs": [],
   "source": [
    "# sanity check: verify the length of the new dataframe == length of unique_nums (the list of indices)\n",
    "len(unique_nums)"
   ]
  },
  {
   "cell_type": "code",
   "execution_count": null,
   "metadata": {},
   "outputs": [],
   "source": [
    "# create a csv file containing only the matching records\n",
    "result_df.to_csv('results.csv')"
   ]
  }
 ],
 "metadata": {
  "kernelspec": {
   "display_name": "pw",
   "language": "python",
   "name": "python3"
  },
  "language_info": {
   "codemirror_mode": {
    "name": "ipython",
    "version": 3
   },
   "file_extension": ".py",
   "mimetype": "text/x-python",
   "name": "python",
   "nbconvert_exporter": "python",
   "pygments_lexer": "ipython3",
   "version": "3.9.18"
  }
 },
 "nbformat": 4,
 "nbformat_minor": 2
}
